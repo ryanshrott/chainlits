{
 "cells": [
  {
   "cell_type": "code",
   "execution_count": 1,
   "metadata": {},
   "outputs": [],
   "source": [
    "import googlemaps\n",
    "import requests\n",
    "import os\n",
    "from dotenv import load_dotenv\n",
    "\n",
    "load_dotenv()\n",
    "gmaps = googlemaps.Client(key=os.getenv(\"GOOGLE_KEY\"))\n",
    "\n",
    "\n",
    "def geocoords(place_id):\n",
    "    place_details = gmaps.place(place_id)\n",
    "    latitude = place_details['result']['geometry']['location']['lat']\n",
    "    longitude = place_details['result']['geometry']['location']['lng']\n",
    "    return {'lat': latitude, 'lon': longitude}\n",
    "\n",
    "\n",
    "def get_gmaps_address(query):\n",
    "    return gmaps.places_autocomplete(query, types=[\"geocode\"], components={\"country\": \"ca\"})\n",
    "\n",
    "\n",
    "def get_address_info(top_suggestion, unit_number=None):\n",
    "    coords = geocoords(gmaps.find_place(top_suggestion, 'textquery')['candidates'][0]['place_id'])\n",
    "    return {\n",
    "        'description': top_suggestion['description'],\n",
    "        'street_num': top_suggestion['terms'][0]['value'],\n",
    "        'street_name': top_suggestion['terms'][1]['value'].split(' ')[0],\n",
    "        'city': top_suggestion['terms'][2]['value'],\n",
    "        'unit_number': unit_number,\n",
    "        'lat': coords['lat'],\n",
    "        'lon': coords['lon']\n",
    "    }"
   ]
  },
  {
   "cell_type": "code",
   "execution_count": 73,
   "metadata": {},
   "outputs": [
    {
     "name": "stdout",
     "output_type": "stream",
     "text": [
      "218 Harvie Ave Toronto Detached  4    true\n",
      "['218 Harvie Ave Toronto', 'Detached', '', True, True, '4', '', '', '', '', {'headers': ['None'], 'data': [['None']]}]\n",
      "[{'148 Hope St': {'exact_match': True, 'weight': 0.2, 'total_beds': 4.0, 'house-washroom': 2.0, 'house-house_area-estimate': None, 'house-land-area': 2035.2, 'prices': {'2023-06-25': {'price_complex': 1161034.987941889, 'price_simple': 1227738.2833422003, 'px': 1227738.2833422003, 'interest_rate': 5.55249999999903}}, 'house-list_dates-date_start': '2010-03-03T00:00:00'}, '164 Harvie Ave': {'exact_match': True, 'weight': 0.2, 'total_beds': 4.0, 'house-washroom': 2.0, 'house-house_area-estimate': None, 'house-land-area': 3072.0, 'prices': {'2023-06-25': {'price_complex': 1197162.5103505768, 'price_simple': 1202894.664947643, 'px': 1202894.664947643, 'interest_rate': 5.55249999999903}}, 'house-list_dates-date_start': '2006-05-22T00:00:00'}, '241 Nairn Ave': {'exact_match': True, 'weight': 0.2, 'total_beds': 4.0, 'house-washroom': 3.0, 'house-house_area-estimate': None, 'house-land-area': 1830.9399999999998, 'prices': {'2023-06-25': {'price_complex': 1130283.6637069867, 'price_simple': 1230120.5937021186, 'px': 1230120.5937021186, 'interest_rate': 5.55249999999903}}, 'house-list_dates-date_start': '2009-05-22T00:00:00'}, '141 Harvie Ave': {'exact_match': True, 'weight': 0.2, 'total_beds': 4.0, 'house-washroom': 3.0, 'house-house_area-estimate': 1300.0, 'house-land-area': 2432.0, 'prices': {'2023-06-25': {'price_complex': 813881.9025810417, 'price_simple': 1108656.1932246718, 'px': 1108656.1932246718, 'interest_rate': 5.55249999999903}}, 'house-list_dates-date_start': '2017-04-28T00:00:00'}, '205 Nairn Ave': {'exact_match': True, 'weight': 0.2, 'total_beds': 4.0, 'house-washroom': 2.0, 'house-house_area-estimate': None, 'house-land-area': 2304.0, 'prices': {'2023-06-25': {'price_complex': 1161488.7362569706, 'price_simple': 1104743.4223824271, 'px': 1104743.4223824271, 'interest_rate': 5.55249999999903}}, 'house-list_dates-date_start': '2014-08-29T00:00:00'}, 'input_info': {'description': '', 'street_num': '218', 'street_name': 'Harvie', 'city': 'Toronto', 'unit_number': '', 'lat': 43.6817537, 'lon': -79.4523143}}]\n"
     ]
    }
   ],
   "source": [
    "def str_to_bool(s):\n",
    "    if s.lower() == 'true':\n",
    "         return True\n",
    "    elif s.lower() == 'false':\n",
    "         return False\n",
    "    else:\n",
    "         raise ValueError(\"Cannot convert to boolean: \" + s)\n",
    "\n",
    "\n",
    "def price_home_and_find_comparables(address: str, house_category: str,  unit_number:str='', beds:str='', baths:str='', house_sqft:str='', land_sqft:str='', use_comparables:str=\"false\"):\n",
    "    \"\"\"\n",
    "    Price a home and optionally find comparable properties.   \n",
    "    :param address: The address of the property (e.g. 123 Harvie Ave Toronto, Ontario)\n",
    "    :param house_category: The type of the house <<Condo, Detached, Semi, Link, Multiplex, Vacant Land, Condo Townhouse, Freehold Townhouse, Other>>\n",
    "    :param unit_number: The unit number like 402 (optional)\n",
    "    :param beds: The number of bedrooms (optional)\n",
    "    :param baths: The number of bathrooms (optional)\n",
    "    :param house_sqft: The square footage of the house (optional)\n",
    "    :param land_sqft: The square footage of the land (optional)\n",
    "    :param use_comparables: Whether to use comparables or not (optional). If set to true, you MUST specify at least one of beds, baths, house_sqft, land_sqft. <<true, false>>\n",
    "\n",
    "    :return: Pricing information for the property\n",
    "    \"\"\"\n",
    "    print(address, house_category,  unit_number, beds, baths, house_sqft, land_sqft, use_comparables)\n",
    "    headers = {\n",
    "        'Authorization': os.getenv(\"HUGGING_FACE_API_KEY\"),\n",
    "        'Content-Type': 'application/json'\n",
    "    }\n",
    "    if(str_to_bool(use_comparables) and (beds == '' and baths == '' and house_sqft == '' and land_sqft == '')):\n",
    "        return 'You must specify at least one of beds, baths, house_sqft, land_sqft if you want to use comparables'\n",
    "    data = [\n",
    "            address,\n",
    "            house_category,\n",
    "            unit_number,\n",
    "            str_to_bool(use_comparables),\n",
    "            True,\n",
    "            beds,\n",
    "            baths,\n",
    "            house_sqft,\n",
    "            land_sqft,\n",
    "            '',\n",
    "            {'headers': ['None'], 'data': [['None']]}\n",
    "        ]\n",
    "    print(data)\n",
    "    #print({'headers': ['None'], 'data': [['None']]} if modifications is None else modifications)\n",
    "    response = requests.post(\"https://rshrott-smartbids.hf.space/run/price_with_google_maps\", json={\n",
    "        \"data\": data\n",
    "    }, headers=headers)\n",
    "\n",
    "\n",
    "    if response.status_code == 200:\n",
    "        data = response.json()[\"data\"]\n",
    "        return data\n",
    "    else:\n",
    "        return 'Status Code:' + str(response.status_code) + ' ' + str(response.json())\n",
    "    \n",
    "json_data1 = price_home_and_find_comparables('218 Harvie Ave Toronto','Detached', '',  '4', '', '', '', \"true\")\n",
    "print(json_data1)"
   ]
  },
  {
   "cell_type": "code",
   "execution_count": 74,
   "metadata": {},
   "outputs": [
    {
     "name": "stdout",
     "output_type": "stream",
     "text": [
      "148 Hope St {'exact_match': True, 'weight': 0.2, 'total_beds': 4.0, 'house-washroom': 2.0, 'house-house_area-estimate': None, 'house-land-area': 2035.2, 'prices': {'2023-06-25': {'price_complex': 1161034.987941889, 'price_simple': 1227738.2833422003, 'px': 1227738.2833422003, 'interest_rate': 5.55249999999903}}, 'house-list_dates-date_start': '2010-03-03T00:00:00'}\n",
      "164 Harvie Ave {'exact_match': True, 'weight': 0.2, 'total_beds': 4.0, 'house-washroom': 2.0, 'house-house_area-estimate': None, 'house-land-area': 3072.0, 'prices': {'2023-06-25': {'price_complex': 1197162.5103505768, 'price_simple': 1202894.664947643, 'px': 1202894.664947643, 'interest_rate': 5.55249999999903}}, 'house-list_dates-date_start': '2006-05-22T00:00:00'}\n",
      "241 Nairn Ave {'exact_match': True, 'weight': 0.2, 'total_beds': 4.0, 'house-washroom': 3.0, 'house-house_area-estimate': None, 'house-land-area': 1830.9399999999998, 'prices': {'2023-06-25': {'price_complex': 1130283.6637069867, 'price_simple': 1230120.5937021186, 'px': 1230120.5937021186, 'interest_rate': 5.55249999999903}}, 'house-list_dates-date_start': '2009-05-22T00:00:00'}\n",
      "141 Harvie Ave {'exact_match': True, 'weight': 0.2, 'total_beds': 4.0, 'house-washroom': 3.0, 'house-house_area-estimate': 1300.0, 'house-land-area': 2432.0, 'prices': {'2023-06-25': {'price_complex': 813881.9025810417, 'price_simple': 1108656.1932246718, 'px': 1108656.1932246718, 'interest_rate': 5.55249999999903}}, 'house-list_dates-date_start': '2017-04-28T00:00:00'}\n",
      "205 Nairn Ave {'exact_match': True, 'weight': 0.2, 'total_beds': 4.0, 'house-washroom': 2.0, 'house-house_area-estimate': None, 'house-land-area': 2304.0, 'prices': {'2023-06-25': {'price_complex': 1161488.7362569706, 'price_simple': 1104743.4223824271, 'px': 1104743.4223824271, 'interest_rate': 5.55249999999903}}, 'house-list_dates-date_start': '2014-08-29T00:00:00'}\n",
      "input_info {'description': '', 'street_num': '218', 'street_name': 'Harvie', 'city': 'Toronto', 'unit_number': '', 'lat': 43.6817537, 'lon': -79.4523143}\n"
     ]
    }
   ],
   "source": [
    "for data in json_data1:\n",
    "    for key, value in data.items():\n",
    "        print(key, value)"
   ]
  },
  {
   "cell_type": "code",
   "execution_count": 77,
   "metadata": {},
   "outputs": [
    {
     "data": {
      "text/plain": [
       "[{'148 Hope St': {'exact_match': True,\n",
       "   'weight': 0.2,\n",
       "   'total_beds': 4.0,\n",
       "   'house-washroom': 2.0,\n",
       "   'house-house_area-estimate': None,\n",
       "   'house-land-area': 2035.2,\n",
       "   'prices': {'2023-06-25': {'price_complex': 1161034.987941889,\n",
       "     'price_simple': 1227738.2833422003,\n",
       "     'px': 1227738.2833422003,\n",
       "     'interest_rate': 5.55249999999903}},\n",
       "   'house-list_dates-date_start': '2010-03-03T00:00:00'},\n",
       "  '164 Harvie Ave': {'exact_match': True,\n",
       "   'weight': 0.2,\n",
       "   'total_beds': 4.0,\n",
       "   'house-washroom': 2.0,\n",
       "   'house-house_area-estimate': None,\n",
       "   'house-land-area': 3072.0,\n",
       "   'prices': {'2023-06-25': {'price_complex': 1197162.5103505768,\n",
       "     'price_simple': 1202894.664947643,\n",
       "     'px': 1202894.664947643,\n",
       "     'interest_rate': 5.55249999999903}},\n",
       "   'house-list_dates-date_start': '2006-05-22T00:00:00'},\n",
       "  '241 Nairn Ave': {'exact_match': True,\n",
       "   'weight': 0.2,\n",
       "   'total_beds': 4.0,\n",
       "   'house-washroom': 3.0,\n",
       "   'house-house_area-estimate': None,\n",
       "   'house-land-area': 1830.9399999999998,\n",
       "   'prices': {'2023-06-25': {'price_complex': 1130283.6637069867,\n",
       "     'price_simple': 1230120.5937021186,\n",
       "     'px': 1230120.5937021186,\n",
       "     'interest_rate': 5.55249999999903}},\n",
       "   'house-list_dates-date_start': '2009-05-22T00:00:00'},\n",
       "  '141 Harvie Ave': {'exact_match': True,\n",
       "   'weight': 0.2,\n",
       "   'total_beds': 4.0,\n",
       "   'house-washroom': 3.0,\n",
       "   'house-house_area-estimate': 1300.0,\n",
       "   'house-land-area': 2432.0,\n",
       "   'prices': {'2023-06-25': {'price_complex': 813881.9025810417,\n",
       "     'price_simple': 1108656.1932246718,\n",
       "     'px': 1108656.1932246718,\n",
       "     'interest_rate': 5.55249999999903}},\n",
       "   'house-list_dates-date_start': '2017-04-28T00:00:00'},\n",
       "  '205 Nairn Ave': {'exact_match': True,\n",
       "   'weight': 0.2,\n",
       "   'total_beds': 4.0,\n",
       "   'house-washroom': 2.0,\n",
       "   'house-house_area-estimate': None,\n",
       "   'house-land-area': 2304.0,\n",
       "   'prices': {'2023-06-25': {'price_complex': 1161488.7362569706,\n",
       "     'price_simple': 1104743.4223824271,\n",
       "     'px': 1104743.4223824271,\n",
       "     'interest_rate': 5.55249999999903}},\n",
       "   'house-list_dates-date_start': '2014-08-29T00:00:00'},\n",
       "  'input_info': {'description': '',\n",
       "   'street_num': '218',\n",
       "   'street_name': 'Harvie',\n",
       "   'city': 'Toronto',\n",
       "   'unit_number': '',\n",
       "   'lat': 43.6817537,\n",
       "   'lon': -79.4523143}}]"
      ]
     },
     "execution_count": 77,
     "metadata": {},
     "output_type": "execute_result"
    }
   ],
   "source": [
    "json_data1"
   ]
  },
  {
   "cell_type": "code",
   "execution_count": 90,
   "metadata": {},
   "outputs": [
    {
     "name": "stdout",
     "output_type": "stream",
     "text": [
      "218 Harvie Ave Toronto Detached  4    true\n",
      "['218 Harvie Ave Toronto', 'Detached', '', True, True, '4', '', '', '', '', {'headers': ['None'], 'data': [['None']]}]\n"
     ]
    },
    {
     "data": {
      "text/plain": [
       "'The model price of 218 Harvie is 1174830.63. The location coordinates are (43.6817537, -79.4523143). The house has 4.0 beds, 2.0 washrooms, an estimated area of None, and a land area of 2304.0. We priced this with an exact match. You could also price this property with comparables: 148 Hope St, 164 Harvie Ave, 241 Nairn Ave, 141 Harvie Ave, 205 Nairn Ave.\\nThe comparable properties used are (in CSV format):\\nStreet,Price,Beds,Washrooms,Area Estimate,Land Area\\n148 Hope St,1227738.28,4.0,2.0,None,2035.2\\n164 Harvie Ave,1202894.66,4.0,2.0,None,3072.0\\n241 Nairn Ave,1230120.59,4.0,3.0,None,1830.9399999999998\\n141 Harvie Ave,1108656.19,4.0,3.0,1300.0,2432.0\\n205 Nairn Ave,1104743.42,4.0,2.0,None,2304.0'"
      ]
     },
     "execution_count": 90,
     "metadata": {},
     "output_type": "execute_result"
    }
   ],
   "source": [
    "def compute_weighted_avg(json_data):\n",
    "    total_weight = 0\n",
    "    weighted_sum = 0\n",
    "    house_data = []\n",
    "    comparable_properties = []\n",
    "\n",
    "    exact_matches = 0\n",
    "    for data in json_data:\n",
    "        for key, value in data.items():\n",
    "            if key == \"input_info\": # Ignore \"input_info\" data\n",
    "                input_info = value\n",
    "                continue\n",
    "\n",
    "            weight = value['weight']\n",
    "            first_price = value['prices'][next(iter(value['prices']))]['price_simple']\n",
    "            beds = value['total_beds']\n",
    "            washrooms = value['house-washroom']\n",
    "            area_estimate = value['house-house_area-estimate']\n",
    "            land_area = value['house-land-area']\n",
    "            exact_match = value['exact_match']\n",
    "\n",
    "            house_data.append({\n",
    "                \"street\": key,\n",
    "                \"price\": first_price,\n",
    "                \"beds\": beds,\n",
    "                \"washrooms\": washrooms,\n",
    "                \"area_estimate\": area_estimate,\n",
    "                \"land_area\": land_area,\n",
    "                \"exact_match\": exact_match,\n",
    "            })\n",
    "\n",
    "            total_weight += weight\n",
    "            weighted_sum += weight * first_price\n",
    "\n",
    "            if exact_match:\n",
    "                exact_matches += 1\n",
    "\n",
    "    weighted_avg = weighted_sum / total_weight if total_weight > 0 else 0\n",
    "    location_coords = (input_info['lat'], input_info['lon'])\n",
    "\n",
    "    streets = ', '.join([house['street'] for house in house_data])\n",
    "    for house in house_data:\n",
    "        comparable_properties.append(f\"{house['street']},{house['price']:.2f},{house['beds']},{house['washrooms']},{house['area_estimate']},{house['land_area']}\")\n",
    "    comparable_properties_csv = \"\\n\".join(comparable_properties)\n",
    "\n",
    "    if len(house_data) == 1 and exact_matches == 1:  # Only one exact match found\n",
    "        house = house_data[0]\n",
    "        result_str = f\"The model price of {input_info['street_num']} {input_info['street_name']} is {house['price']:.2f}. The location coordinates are {location_coords}. The house has {house['beds']} beds, {house['washrooms']} washrooms, an estimated area of {house['area_estimate']}, and a land area of {house['land_area']}. We priced this with an exact match.\"\n",
    "    elif exact_matches == len(house_data): # All houses are exact matches\n",
    "        result_str = f\"The model price of {input_info['street_num']} {input_info['street_name']} is {weighted_avg:.2f}. The location coordinates are {location_coords}. The house has {house['beds']} beds, {house['washrooms']} washrooms, an estimated area of {house['area_estimate']}, and a land area of {house['land_area']}. We priced this with an exact match. You could also price this property with comparables: {streets}.\\nThe comparable properties used are (in CSV format):\\nStreet,Price,Beds,Washrooms,Area Estimate,Land Area\\n{comparable_properties_csv}\"\n",
    "    else: # Not all houses are exact matches, we have comparables\n",
    "        result_str = f\"The model price of {input_info['street_num']} {input_info['street_name']} is {weighted_avg:.2f}. The location coordinates are {location_coords}.This price was computed using comparable properties: {streets}. \\nThe comparable properties used are (in CSV format):\\nStreet,Price,Beds,Washrooms,Area Estimate,Land Area\\n{comparable_properties_csv}\"\n",
    "\n",
    "    return result_str\n",
    "\n",
    "\n",
    "\n",
    "\n",
    "\n",
    "# Load json_data\n",
    "json_data1 = price_home_and_find_comparables('218 Harvie Ave Toronto','Detached', '',  '4', '', '', '', \"true\")\n",
    "\n",
    "compute_weighted_avg(json_data1)\n"
   ]
  },
  {
   "cell_type": "code",
   "execution_count": 91,
   "metadata": {},
   "outputs": [
    {
     "name": "stdout",
     "output_type": "stream",
     "text": [
      "218 Harvie Ave Toronto Detached  4    false\n",
      "['218 Harvie Ave Toronto', 'Detached', '', False, True, '4', '', '', '', '', {'headers': ['None'], 'data': [['None']]}]\n"
     ]
    },
    {
     "data": {
      "text/plain": [
       "'The model price of 218 Harvie is 1332436.04. The location coordinates are (43.6817537, -79.4523143). The house has 3.5 beds, 4.0 washrooms, an estimated area of 1917.0, and a land area of 2286.0. We priced this with an exact match.'"
      ]
     },
     "execution_count": 91,
     "metadata": {},
     "output_type": "execute_result"
    },
    {
     "ename": "",
     "evalue": "",
     "output_type": "error",
     "traceback": [
      "\u001b[1;31mThe Kernel crashed while executing code in the the current cell or a previous cell. Please review the code in the cell(s) to identify a possible cause of the failure. Click <a href='https://aka.ms/vscodeJupyterKernelCrash'>here</a> for more info. View Jupyter <a href='command:jupyter.viewOutput'>log</a> for further details."
     ]
    }
   ],
   "source": [
    "json_data1 = price_home_and_find_comparables('218 Harvie Ave Toronto','Detached', '',  '4', '', '', '', \"false\")\n",
    "\n",
    "compute_weighted_avg(json_data1)\n"
   ]
  },
  {
   "cell_type": "code",
   "execution_count": 51,
   "metadata": {},
   "outputs": [
    {
     "data": {
      "text/plain": [
       "'The model price of 218 Harvie is 1332436.04. The house has 3.5 beds, 4.0 washrooms, an estimated area of 1917.0, and a land area of 2286.0. We priced this with an exact match. The location coordinates are (43.6817537, -79.4523143).'"
      ]
     },
     "execution_count": 51,
     "metadata": {},
     "output_type": "execute_result"
    }
   ],
   "source": [
    "compute_weighted_avg(json_data2)"
   ]
  },
  {
   "cell_type": "code",
   "execution_count": 53,
   "metadata": {},
   "outputs": [
    {
     "name": "stdout",
     "output_type": "stream",
     "text": [
      "218 Harvie Ave Toronto Detached  4    true\n",
      "['218 Harvie Ave Toronto', 'Detached', '', True, True, '4', '', '', '', '', {'headers': ['None'], 'data': [['None']]}]\n",
      "148 Hope St {'exact_match': True, 'weight': 0.2, 'total_beds': 4.0, 'house-washroom': 2.0, 'house-house_area-estimate': None, 'house-land-area': 2035.2, 'prices': {'2023-06-25': {'price_complex': 1161034.987941889, 'price_simple': 1227738.2833422003, 'px': 1227738.2833422003, 'interest_rate': 5.55249999999903}}, 'house-list_dates-date_start': '2010-03-03T00:00:00'}\n",
      "164 Harvie Ave {'exact_match': True, 'weight': 0.2, 'total_beds': 4.0, 'house-washroom': 2.0, 'house-house_area-estimate': None, 'house-land-area': 3072.0, 'prices': {'2023-06-25': {'price_complex': 1197162.5103505768, 'price_simple': 1202894.664947643, 'px': 1202894.664947643, 'interest_rate': 5.55249999999903}}, 'house-list_dates-date_start': '2006-05-22T00:00:00'}\n",
      "241 Nairn Ave {'exact_match': True, 'weight': 0.2, 'total_beds': 4.0, 'house-washroom': 3.0, 'house-house_area-estimate': None, 'house-land-area': 1830.9399999999998, 'prices': {'2023-06-25': {'price_complex': 1130283.6637069867, 'price_simple': 1230120.5937021186, 'px': 1230120.5937021186, 'interest_rate': 5.55249999999903}}, 'house-list_dates-date_start': '2009-05-22T00:00:00'}\n",
      "141 Harvie Ave {'exact_match': True, 'weight': 0.2, 'total_beds': 4.0, 'house-washroom': 3.0, 'house-house_area-estimate': 1300.0, 'house-land-area': 2432.0, 'prices': {'2023-06-25': {'price_complex': 813881.9025810417, 'price_simple': 1108656.1932246718, 'px': 1108656.1932246718, 'interest_rate': 5.55249999999903}}, 'house-list_dates-date_start': '2017-04-28T00:00:00'}\n",
      "205 Nairn Ave {'exact_match': True, 'weight': 0.2, 'total_beds': 4.0, 'house-washroom': 2.0, 'house-house_area-estimate': None, 'house-land-area': 2304.0, 'prices': {'2023-06-25': {'price_complex': 1161488.7362569706, 'price_simple': 1104743.4223824271, 'px': 1104743.4223824271, 'interest_rate': 5.55249999999903}}, 'house-list_dates-date_start': '2014-08-29T00:00:00'}\n",
      "input_info {'description': '', 'street_num': '218', 'street_name': 'Harvie', 'city': 'Toronto', 'unit_number': '', 'lat': 43.6817537, 'lon': -79.4523143}\n"
     ]
    }
   ],
   "source": [
    "    \n",
    "json_data2 = price_home_and_find_comparables('218 Harvie Ave Toronto','Detached', '',  '4', '', '', '', \"true\")\n",
    "for data in json_data2:\n",
    "    for key, value in data.items():\n",
    "        print(key, value)"
   ]
  },
  {
   "cell_type": "code",
   "execution_count": 69,
   "metadata": {},
   "outputs": [
    {
     "name": "stdout",
     "output_type": "stream",
     "text": [
      "[{'description': '218 Harvie Ave, Toronto, Ontario, Canada', 'matched_substrings': [{'length': 3, 'offset': 0}, {'length': 10, 'offset': 4}, {'length': 7, 'offset': 16}, {'length': 7, 'offset': 25}], 'place_id': 'ChIJkcElyws0K4gRWfSoUnq_-BM', 'reference': 'ChIJkcElyws0K4gRWfSoUnq_-BM', 'structured_formatting': {'main_text': '218 Harvie Ave', 'main_text_matched_substrings': [{'length': 3, 'offset': 0}, {'length': 10, 'offset': 4}], 'secondary_text': 'Toronto, Ontario, Canada', 'secondary_text_matched_substrings': [{'length': 7, 'offset': 0}, {'length': 7, 'offset': 9}]}, 'terms': [{'offset': 0, 'value': '218'}, {'offset': 4, 'value': 'Harvie Ave'}, {'offset': 16, 'value': 'Toronto'}, {'offset': 25, 'value': 'Ontario'}, {'offset': 34, 'value': 'Canada'}], 'types': ['premise', 'geocode']}]\n",
      "[{'description': '218 Harvie Ave, Toronto, Ontario, Canada', 'matched_substrings': [{'length': 3, 'offset': 0}, {'length': 10, 'offset': 4}, {'length': 7, 'offset': 16}, {'length': 7, 'offset': 25}], 'place_id': 'ChIJkcElyws0K4gRWfSoUnq_-BM', 'reference': 'ChIJkcElyws0K4gRWfSoUnq_-BM', 'structured_formatting': {'main_text': '218 Harvie Ave', 'main_text_matched_substrings': [{'length': 3, 'offset': 0}, {'length': 10, 'offset': 4}], 'secondary_text': 'Toronto, Ontario, Canada', 'secondary_text_matched_substrings': [{'length': 7, 'offset': 0}, {'length': 7, 'offset': 9}]}, 'terms': [{'offset': 0, 'value': '218'}, {'offset': 4, 'value': 'Harvie Ave'}, {'offset': 16, 'value': 'Toronto'}, {'offset': 25, 'value': 'Ontario'}, {'offset': 34, 'value': 'Canada'}], 'types': ['premise', 'geocode']}]\n"
     ]
    }
   ],
   "source": [
    "def get_gmaps_address(query):\n",
    "    return gmaps.places_autocomplete(query, types=[\"geocode\"], components={\"country\": \"ca\"})\n",
    "\n",
    "def get_gmaps_address(query):\n",
    "    suggestions = gmaps.places_autocomplete(query, types=[\"geocode\"], components={\"country\": \"ca\"})\n",
    "    return [s for s in suggestions if any(x['value'].lower() in ['on', 'bc', 'ab', \"ontario\", \"british columbia\", \"alberta\"]  for x in s['terms'])]\n",
    "print(get_gmaps_address('218 Harvie Ave Toronto Ontario'))\n",
    "print(get_gmaps_address('218 Harvie Ave Toronto Ontario'))\n",
    "\n"
   ]
  },
  {
   "cell_type": "code",
   "execution_count": 56,
   "metadata": {},
   "outputs": [
    {
     "data": {
      "text/plain": [
       "[{'description': '218 Harvie Ave, Toronto, Ontario, Canada',\n",
       "  'matched_substrings': [{'length': 3, 'offset': 0},\n",
       "   {'length': 10, 'offset': 4},\n",
       "   {'length': 7, 'offset': 16},\n",
       "   {'length': 7, 'offset': 25}],\n",
       "  'place_id': 'ChIJkcElyws0K4gRWfSoUnq_-BM',\n",
       "  'reference': 'ChIJkcElyws0K4gRWfSoUnq_-BM',\n",
       "  'structured_formatting': {'main_text': '218 Harvie Ave',\n",
       "   'main_text_matched_substrings': [{'length': 3, 'offset': 0},\n",
       "    {'length': 10, 'offset': 4}],\n",
       "   'secondary_text': 'Toronto, Ontario, Canada',\n",
       "   'secondary_text_matched_substrings': [{'length': 7, 'offset': 0},\n",
       "    {'length': 7, 'offset': 9}]},\n",
       "  'terms': [{'offset': 0, 'value': '218'},\n",
       "   {'offset': 4, 'value': 'Harvie Ave'},\n",
       "   {'offset': 16, 'value': 'Toronto'},\n",
       "   {'offset': 25, 'value': 'Ontario'},\n",
       "   {'offset': 34, 'value': 'Canada'}],\n",
       "  'types': ['premise', 'geocode']}]"
      ]
     },
     "execution_count": 56,
     "metadata": {},
     "output_type": "execute_result"
    }
   ],
   "source": [
    "get_gmaps_address('218 Harvie Ave Toronto Ontario')"
   ]
  },
  {
   "cell_type": "code",
   "execution_count": 57,
   "metadata": {},
   "outputs": [
    {
     "data": {
      "text/plain": [
       "[{'description': '218 Harvie Ave, Toronto, ON, Canada',\n",
       "  'matched_substrings': [{'length': 3, 'offset': 0},\n",
       "   {'length': 10, 'offset': 4},\n",
       "   {'length': 7, 'offset': 16}],\n",
       "  'place_id': 'ChIJkcElyws0K4gRWfSoUnq_-BM',\n",
       "  'reference': 'ChIJkcElyws0K4gRWfSoUnq_-BM',\n",
       "  'structured_formatting': {'main_text': '218 Harvie Ave',\n",
       "   'main_text_matched_substrings': [{'length': 3, 'offset': 0},\n",
       "    {'length': 10, 'offset': 4}],\n",
       "   'secondary_text': 'Toronto, ON, Canada',\n",
       "   'secondary_text_matched_substrings': [{'length': 7, 'offset': 0}]},\n",
       "  'terms': [{'offset': 0, 'value': '218'},\n",
       "   {'offset': 4, 'value': 'Harvie Ave'},\n",
       "   {'offset': 16, 'value': 'Toronto'},\n",
       "   {'offset': 25, 'value': 'ON'},\n",
       "   {'offset': 29, 'value': 'Canada'}],\n",
       "  'types': ['premise', 'geocode']}]"
      ]
     },
     "execution_count": 57,
     "metadata": {},
     "output_type": "execute_result"
    }
   ],
   "source": [
    "def get_suggestions(address):\n",
    "    suggestions = get_gmaps_address(address)\n",
    "    return suggestions\n",
    "get_suggestions('218 Harvie Ave Toronto')"
   ]
  },
  {
   "cell_type": "code",
   "execution_count": 58,
   "metadata": {},
   "outputs": [
    {
     "data": {
      "text/plain": [
       "[{'description': '218 Harvie Ave, Toronto, Ontario, Canada',\n",
       "  'matched_substrings': [{'length': 3, 'offset': 0},\n",
       "   {'length': 10, 'offset': 4},\n",
       "   {'length': 7, 'offset': 16},\n",
       "   {'length': 7, 'offset': 25}],\n",
       "  'place_id': 'ChIJkcElyws0K4gRWfSoUnq_-BM',\n",
       "  'reference': 'ChIJkcElyws0K4gRWfSoUnq_-BM',\n",
       "  'structured_formatting': {'main_text': '218 Harvie Ave',\n",
       "   'main_text_matched_substrings': [{'length': 3, 'offset': 0},\n",
       "    {'length': 10, 'offset': 4}],\n",
       "   'secondary_text': 'Toronto, Ontario, Canada',\n",
       "   'secondary_text_matched_substrings': [{'length': 7, 'offset': 0},\n",
       "    {'length': 7, 'offset': 9}]},\n",
       "  'terms': [{'offset': 0, 'value': '218'},\n",
       "   {'offset': 4, 'value': 'Harvie Ave'},\n",
       "   {'offset': 16, 'value': 'Toronto'},\n",
       "   {'offset': 25, 'value': 'Ontario'},\n",
       "   {'offset': 34, 'value': 'Canada'}],\n",
       "  'types': ['premise', 'geocode']}]"
      ]
     },
     "execution_count": 58,
     "metadata": {},
     "output_type": "execute_result"
    }
   ],
   "source": [
    "get_suggestions('218 Harvie Ave Toronto, ontario')"
   ]
  },
  {
   "cell_type": "code",
   "execution_count": 63,
   "metadata": {},
   "outputs": [
    {
     "name": "stdout",
     "output_type": "stream",
     "text": [
      "[{'description': '218 Harvie Ave, Toronto, Ontario, Canada', 'matched_substrings': [{'length': 3, 'offset': 0}, {'length': 10, 'offset': 4}, {'length': 7, 'offset': 16}, {'length': 7, 'offset': 25}], 'place_id': 'ChIJkcElyws0K4gRWfSoUnq_-BM', 'reference': 'ChIJkcElyws0K4gRWfSoUnq_-BM', 'structured_formatting': {'main_text': '218 Harvie Ave', 'main_text_matched_substrings': [{'length': 3, 'offset': 0}, {'length': 10, 'offset': 4}], 'secondary_text': 'Toronto, Ontario, Canada', 'secondary_text_matched_substrings': [{'length': 7, 'offset': 0}, {'length': 7, 'offset': 9}]}, 'terms': [{'offset': 0, 'value': '218'}, {'offset': 4, 'value': 'Harvie Ave'}, {'offset': 16, 'value': 'Toronto'}, {'offset': 25, 'value': 'Ontario'}, {'offset': 34, 'value': 'Canada'}], 'types': ['premise', 'geocode']}]\n"
     ]
    },
    {
     "data": {
      "text/plain": [
       "{'description': '218 Harvie Ave, Toronto, Ontario, Canada',\n",
       " 'street_num': '218',\n",
       " 'street_name': 'Harvie',\n",
       " 'city': 'Toronto',\n",
       " 'unit_number': '',\n",
       " 'lat': 43.6817537,\n",
       " 'lon': -79.4523143}"
      ]
     },
     "execution_count": 63,
     "metadata": {},
     "output_type": "execute_result"
    }
   ],
   "source": [
    "suggestion = get_suggestions('218 Harvie Ave, Toronto, Ontario')\n",
    "print(suggestion)\n",
    "get_address_info(suggestion[0], '')"
   ]
  },
  {
   "cell_type": "code",
   "execution_count": 3,
   "metadata": {},
   "outputs": [
    {
     "name": "stdout",
     "output_type": "stream",
     "text": [
      "pattd09wj9GOuUjQL.a1c86dbc5172baeb10898109578e171fe5b5b59ce7437abb08405057b90f7203\n",
      "appNHhSJqYGaYrx1t tblS5jdNd3W94kyov pattd09wj9GOuUjQL.a1c86dbc5172baeb10898109578e171fe5b5b59ce7437abb08405057b90f7203\n"
     ]
    }
   ],
   "source": [
    "from airtable import Airtable\n",
    "from pydantic import BaseModel, Field\n",
    "from typing import Optional\n",
    "import os\n",
    "from dotenv import load_dotenv\n",
    "print('pattd09wj9GOuUjQL.a1c86dbc5172baeb10898109578e171fe5b5b59ce7437abb08405057b90f7203')\n",
    "load_dotenv(\".env\")\n",
    "print(os.environ['AIRTABLE_BASE_ID'], os.environ['AIRTABLE_TABLE_NAME'], os.environ['AIRTABLE_API_KEY'])\n",
    "airtable = Airtable(os.environ['AIRTABLE_BASE_ID'], os.environ['AIRTABLE_TABLE_NAME'], api_key=os.environ['AIRTABLE_API_KEY'])"
   ]
  },
  {
   "cell_type": "code",
   "execution_count": 4,
   "metadata": {},
   "outputs": [
    {
     "data": {
      "text/plain": [
       "[{'id': 'reckfOBURRVrWwCMz',\n",
       "  'createdTime': '2023-07-04T01:38:19.000Z',\n",
       "  'fields': {'name': 'Ryan Shrott',\n",
       "   'email': 'ryanshrott@gmail.com',\n",
       "   'phone': '6479727058',\n",
       "   'verified': True,\n",
       "   'token': '26f1fad0dcdc7b15eaa5fbb4b53a5d16e5339132'}}]"
      ]
     },
     "execution_count": 4,
     "metadata": {},
     "output_type": "execute_result"
    }
   ],
   "source": [
    "client = airtable.search('email', 'ryanshrott@gmail.com')\n",
    "client"
   ]
  },
  {
   "cell_type": "code",
   "execution_count": 9,
   "metadata": {},
   "outputs": [
    {
     "data": {
      "text/plain": [
       "[{'id': 'reckfOBURRVrWwCMz',\n",
       "  'createdTime': '2023-07-04T01:38:19.000Z',\n",
       "  'fields': {'name': 'Ryan Shrott',\n",
       "   'email': 'ryanshrott@gmail.com',\n",
       "   'phone': '6479727058',\n",
       "   'verified': True,\n",
       "   'token': '26f1fad0dcdc7b15eaa5fbb4b53a5d16e5339132'}}]"
      ]
     },
     "execution_count": 9,
     "metadata": {},
     "output_type": "execute_result"
    }
   ],
   "source": [
    "def find_client_in_airtable(email):\n",
    "    airtable = Airtable(os.environ['AIRTABLE_BASE_ID'], os.environ['AIRTABLE_TABLE_NAME'], api_key=os.environ['AIRTABLE_API_KEY'])\n",
    "    client = airtable.search('email', email)\n",
    "    return client\n",
    "find_client_in_airtable('ryanshrott@gmail.com')"
   ]
  },
  {
   "cell_type": "code",
   "execution_count": null,
   "metadata": {},
   "outputs": [],
   "source": []
  }
 ],
 "metadata": {
  "kernelspec": {
   "display_name": "smartbidschat",
   "language": "python",
   "name": "python3"
  },
  "language_info": {
   "codemirror_mode": {
    "name": "ipython",
    "version": 3
   },
   "file_extension": ".py",
   "mimetype": "text/x-python",
   "name": "python",
   "nbconvert_exporter": "python",
   "pygments_lexer": "ipython3",
   "version": "3.11.4"
  },
  "orig_nbformat": 4
 },
 "nbformat": 4,
 "nbformat_minor": 2
}
