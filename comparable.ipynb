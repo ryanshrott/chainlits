{
 "cells": [
  {
   "cell_type": "code",
   "execution_count": 1,
   "metadata": {},
   "outputs": [],
   "source": [
    "import googlemaps\n",
    "import requests\n",
    "import os\n",
    "from dotenv import load_dotenv\n",
    "\n",
    "load_dotenv()\n",
    "gmaps = googlemaps.Client(key=os.getenv(\"GOOGLE_KEY\"))\n",
    "\n",
    "\n",
    "def geocoords(place_id):\n",
    "    place_details = gmaps.place(place_id)\n",
    "    latitude = place_details['result']['geometry']['location']['lat']\n",
    "    longitude = place_details['result']['geometry']['location']['lng']\n",
    "    return {'lat': latitude, 'lon': longitude}\n",
    "\n",
    "\n",
    "def get_gmaps_address(query):\n",
    "    return gmaps.places_autocomplete(query, types=[\"geocode\"], components={\"country\": \"ca\"})\n",
    "\n",
    "\n",
    "def get_address_info(top_suggestion, unit_number=None):\n",
    "    coords = geocoords(gmaps.find_place(top_suggestion, 'textquery')['candidates'][0]['place_id'])\n",
    "    return {\n",
    "        'description': top_suggestion['description'],\n",
    "        'street_num': top_suggestion['terms'][0]['value'],\n",
    "        'street_name': top_suggestion['terms'][1]['value'].split(' ')[0],\n",
    "        'city': top_suggestion['terms'][2]['value'],\n",
    "        'unit_number': unit_number,\n",
    "        'lat': coords['lat'],\n",
    "        'lon': coords['lon']\n",
    "    }"
   ]
  },
  {
   "cell_type": "code",
   "execution_count": 15,
   "metadata": {},
   "outputs": [
    {
     "name": "stdout",
     "output_type": "stream",
     "text": [
      "218 Harvie Ave Toronto Detached      False\n",
      "['218 Harvie Ave Toronto', 'Detached', '', False, True, '', '', '', '', '', {'headers': ['None'], 'data': [['None']]}]\n",
      "[{'218 Harvie Ave': {'exact_match': True, 'weight': 1, 'total_beds': 3.5, 'house-washroom': 4.0, 'house-house_area-estimate': 1917.0, 'house-land-area': 2286.0, 'prices': {'2023-06-25': {'price_complex': 1236862.6297180085, 'price_simple': 1332436.0356337286, 'px': 1236862.6297180085, 'interest_rate': 5.55249999999903}}, 'house-list_dates-date_start': '2022-05-26T00:00:00'}, 'input_info': {'description': '', 'street_num': '218', 'street_name': 'Harvie', 'city': 'Toronto', 'unit_number': '', 'lat': 43.6817537, 'lon': -79.4523143}}]\n"
     ]
    }
   ],
   "source": [
    "def str_to_bool(s):\n",
    "    if s.lower() == 'true':\n",
    "         return True\n",
    "    elif s.lower() == 'false':\n",
    "         return False\n",
    "    else:\n",
    "         raise ValueError(\"Cannot convert to boolean: \" + s)\n",
    "\n",
    "\n",
    "def price_and_find_comparables(address: str, house_category: str,  unit_number:str='', beds:str='', baths:str='', house_sqft:str='', land_sqft:str='', use_comparables:str=\"false\"):\n",
    "    \"\"\"\n",
    "    Price a home and optionally find comparable properties.   \n",
    "    :param address: The address of the property (e.g. 123 Harvie Ave Toronto, Ontario)\n",
    "    :param house_category: The type of the house <<Condo, Detached, Semi, Link, Multiplex, Vacant Land, Condo Townhouse, Freehold Townhouse, Other>>\n",
    "    :param unit_number: The unit number like 402 (optional)\n",
    "    :param beds: The number of bedrooms (optional)\n",
    "    :param baths: The number of bathrooms (optional)\n",
    "    :param house_sqft: The square footage of the house (optional)\n",
    "    :param land_sqft: The square footage of the land (optional)\n",
    "    :param use_comparables: Whether to use comparables or not (optional). If set to true, you MUST specify at least one of beds, baths, house_sqft, land_sqft. <<true, false>>\n",
    "\n",
    "    :return: Pricing information for the property\n",
    "    \"\"\"\n",
    "    print(address, house_category,  unit_number, beds, baths, house_sqft, land_sqft, use_comparables)\n",
    "    headers = {\n",
    "        'Authorization': os.getenv(\"HUGGING_FACE_API_KEY\"),\n",
    "        'Content-Type': 'application/json'\n",
    "    }\n",
    "    if(str_to_bool(use_comparables) and (beds == '' and baths == '' and house_sqft == '' and land_sqft == '')):\n",
    "        return 'You must specify at least one of beds, baths, house_sqft, land_sqft if you want to use comparables'\n",
    "    data = [\n",
    "            address,\n",
    "            house_category,\n",
    "            unit_number,\n",
    "            str_to_bool(use_comparables),\n",
    "            True,\n",
    "            beds,\n",
    "            baths,\n",
    "            house_sqft,\n",
    "            land_sqft,\n",
    "            '',\n",
    "            {'headers': ['None'], 'data': [['None']]}\n",
    "        ]\n",
    "    print(data)\n",
    "    #print({'headers': ['None'], 'data': [['None']]} if modifications is None else modifications)\n",
    "    response = requests.post(\"https://rshrott-smartbids.hf.space/run/price_with_google_maps\", json={\n",
    "        \"data\": data\n",
    "    }, headers=headers)\n",
    "\n",
    "\n",
    "    if response.status_code == 200:\n",
    "        data = response.json()[\"data\"]\n",
    "        return str(data)\n",
    "    else:\n",
    "        return 'Status Code:' + str(response.status_code) + ' ' + str(response.json())\n",
    "    \n",
    "result = price_and_find_comparables('218 Harvie Ave Toronto','Detached', '',  '', '', '', '', \"False\")\n",
    "print(result)"
   ]
  },
  {
   "cell_type": "code",
   "execution_count": null,
   "metadata": {},
   "outputs": [],
   "source": []
  }
 ],
 "metadata": {
  "kernelspec": {
   "display_name": "smartbidschat",
   "language": "python",
   "name": "python3"
  },
  "language_info": {
   "codemirror_mode": {
    "name": "ipython",
    "version": 3
   },
   "file_extension": ".py",
   "mimetype": "text/x-python",
   "name": "python",
   "nbconvert_exporter": "python",
   "pygments_lexer": "ipython3",
   "version": "3.11.4"
  },
  "orig_nbformat": 4
 },
 "nbformat": 4,
 "nbformat_minor": 2
}
